{
 "cells": [
  {
   "cell_type": "code",
   "execution_count": null,
   "metadata": {},
   "outputs": [],
   "source": [
    "import PIL \n",
    "import numpy as np\n",
    "import pandas as pd\n",
    "from PIL import Image\n",
    "import matplotlib.pyplot as plt\n",
    "import os\n",
    "import glob"
   ]
  },
  {
   "cell_type": "code",
   "execution_count": null,
   "metadata": {},
   "outputs": [],
   "source": [
    "# 創建資料夾\n",
    "try: \n",
    "    os.makedirs(\"./Ensemble\")\n",
    "except: \n",
    "    print('Folder has already exist')"
   ]
  },
  {
   "cell_type": "code",
   "execution_count": null,
   "metadata": {},
   "outputs": [],
   "source": [
    "# 三份預測圖片之位置\n",
    "path1 = \"Private1\"\n",
    "path2 = \"Private2\"\n",
    "path3 = \"Private3\"\n",
    "\n",
    "# Ensemble\n",
    "count = 0\n",
    "for i in glob.glob(os.path.join(path1, \"*png\")):\n",
    "  \n",
    "    print(i.split(\"/\")[-1])\n",
    "    filename = i.split(\"/\")[-1]\n",
    "\n",
    "    img1 = Image.open(os.path.join(path1, filename))\n",
    "    img1_ar = np.asarray(img1)\n",
    "    img1_ar = np.where(img1_ar > 0, 1, 0)\n",
    "\n",
    "    img2 = Image.open(os.path.join(path2, filename))\n",
    "    img2_ar = np.asarray(img2)\n",
    "    img2_ar = np.where(img2_ar  > 0, 1, 0)\n",
    "\n",
    "    img3 = Image.open(os.path.join(path3, filename))\n",
    "    img3_ar = np.asarray(img3)\n",
    "    img3_ar = np.where(img3_ar > 0, 1, 0)\n",
    "\n",
    "    img_fix = (img1_ar + img2_ar + img3_ar)/3  \n",
    "        \n",
    "    img_fix1 = img_fix.round()\n",
    "\n",
    "    plt.imsave(f\"./Ensemble/{filename}\", img_fix1, cmap='gray')\n",
    "    count += 1\n",
    "\n",
    "print(\"Finish Ensemble {} picture\".format(count))"
   ]
  }
 ],
 "metadata": {
  "interpreter": {
   "hash": "ad2bdc8ecc057115af97d19610ffacc2b4e99fae6737bb82f5d7fb13d2f2c186"
  },
  "kernelspec": {
   "display_name": "Python 3",
   "language": "python",
   "name": "python3"
  },
  "language_info": {
   "codemirror_mode": {
    "name": "ipython",
    "version": 3
   },
   "file_extension": ".py",
   "mimetype": "text/x-python",
   "name": "python",
   "nbconvert_exporter": "python",
   "pygments_lexer": "ipython3",
   "version": "3.6.9"
  }
 },
 "nbformat": 4,
 "nbformat_minor": 4
}
